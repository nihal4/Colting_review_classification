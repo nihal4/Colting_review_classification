{
  "nbformat": 4,
  "nbformat_minor": 0,
  "metadata": {
    "colab": {
      "provenance": [],
      "mount_file_id": "11HhKm4nMO3q1duER1xCS2QpWRpSGbzzh",
      "authorship_tag": "ABX9TyP7+FKdMeUkwvAsZVUKUK02",
      "include_colab_link": true
    },
    "kernelspec": {
      "name": "python3",
      "display_name": "Python 3"
    },
    "language_info": {
      "name": "python"
    }
  },
  "cells": [
    {
      "cell_type": "markdown",
      "metadata": {
        "id": "view-in-github",
        "colab_type": "text"
      },
      "source": [
        "<a href=\"https://colab.research.google.com/github/nihal4/Colting_review_classification/blob/main/getting_ready_for_deploy.ipynb\" target=\"_parent\"><img src=\"https://colab.research.google.com/assets/colab-badge.svg\" alt=\"Open In Colab\"/></a>"
      ]
    },
    {
      "cell_type": "code",
      "execution_count": null,
      "metadata": {
        "id": "0QW3wXKY7Xuq"
      },
      "outputs": [],
      "source": [
        "from  IPython import display\n",
        "from matplotlib import pyplot as plt\n",
        "\n",
        "import numpy as np\n",
        "import pandas as pd\n",
        "\n",
        "import pathlib\n",
        "import shutil\n",
        "import tempfile\n",
        "import json\n",
        "import string"
      ]
    },
    {
      "cell_type": "code",
      "source": [
        "import tensorflow as tf\n",
        "from tensorflow import keras"
      ],
      "metadata": {
        "id": "9QsdNYWJ7p1M"
      },
      "execution_count": null,
      "outputs": []
    },
    {
      "cell_type": "code",
      "source": [
        "loaded_encoder_config = json.loads(\n",
        "    open('/content/drive/MyDrive/text_vectorization_encoder_config.json', 'r').read())\n",
        "loaded_encoder_weights = np.load('/content/drive/MyDrive/text_vectorization_encoder_weights.npy', allow_pickle=True)"
      ],
      "metadata": {
        "id": "6jAO9trw7y3I"
      },
      "execution_count": null,
      "outputs": []
    },
    {
      "cell_type": "code",
      "source": [
        "loaded_encoder = keras.layers.TextVectorization.from_config(loaded_encoder_config)\n",
        "loaded_encoder.set_weights(loaded_encoder_weights)"
      ],
      "metadata": {
        "id": "11-68Htx70YI"
      },
      "execution_count": null,
      "outputs": []
    },
    {
      "cell_type": "code",
      "source": [
        "loaded_model = tf.keras.models.load_model('/content/drive/MyDrive/trained_medium_model')"
      ],
      "metadata": {
        "id": "7nM2k-Dt76t6"
      },
      "execution_count": null,
      "outputs": []
    },
    {
      "cell_type": "code",
      "source": [
        "def preprocess_input(sentence):\n",
        "    preprocessed_sentence = sentence.lower()\n",
        "\n",
        "    preprocessed_sentence = ''.join([char for char in preprocessed_sentence if char not in string.punctuation])\n",
        "\n",
        "    vectorized_sentence = loaded_encoder(np.array([preprocessed_sentence]))\n",
        "\n",
        "    reshaped_sentence = np.reshape(vectorized_sentence, (vectorized_sentence.shape[0], -1))\n",
        "\n",
        "    predictions = loaded_model.predict([preprocessed_sentence])\n",
        "\n",
        "    print(predictions)\n",
        "\n",
        "    if 10*predictions >= 7:\n",
        "      print(\"recomanded\")\n",
        "    else:\n",
        "      print(\"not recomanded\")\n",
        "\n",
        "\n",
        "review_1 = \"the product price is expensive but the product is unique\"\n",
        "\n",
        "\n",
        "print(preprocess_input(review_1))"
      ],
      "metadata": {
        "colab": {
          "base_uri": "https://localhost:8080/"
        },
        "id": "Js9IBF6x7-Fi",
        "outputId": "dde9cc0b-8ce1-428f-fe1e-af3e3eacd738"
      },
      "execution_count": null,
      "outputs": [
        {
          "output_type": "stream",
          "name": "stdout",
          "text": [
            "1/1 [==============================] - 0s 40ms/step\n",
            "[[0.7795438]]\n",
            "recomanded\n",
            "None\n"
          ]
        }
      ]
    }
  ]
}